{
 "cells": [
  {
   "cell_type": "code",
   "execution_count": 1,
   "id": "771a833b",
   "metadata": {},
   "outputs": [
    {
     "name": "stdout",
     "output_type": "stream",
     "text": [
      "pygame 2.5.1 (SDL 2.28.2, Python 3.9.13)\n",
      "Hello from the pygame community. https://www.pygame.org/contribute.html\n"
     ]
    }
   ],
   "source": [
    "import cv2\n",
    "import imutils\n",
    "import numpy as np\n",
    "import argparse\n",
    "import pygame\n",
    "from IPython.display import clear_output \n",
    "\n",
    "pygame.mixer.init()\n",
    "alert_sound = pygame.mixer.Sound(r\"C:\\Users\\sharm\\Documents\\Projects\\CodeX Sigma\\Buzzer_Sound.wav\")"
   ]
  },
  {
   "cell_type": "code",
   "execution_count": 2,
   "id": "daafdc6f",
   "metadata": {},
   "outputs": [
    {
     "ename": "TimeoutError",
     "evalue": "[WinError 10060] A connection attempt failed because the connected party did not properly respond after a period of time, or established connection failed because connected host has failed to respond",
     "output_type": "error",
     "traceback": [
      "\u001b[1;31m---------------------------------------------------------------------------\u001b[0m",
      "\u001b[1;31mTimeoutError\u001b[0m                              Traceback (most recent call last)",
      "\u001b[1;32m~\\AppData\\Local\\Temp\\ipykernel_22804\\682287045.py\u001b[0m in \u001b[0;36m<module>\u001b[1;34m\u001b[0m\n\u001b[0;32m      3\u001b[0m \u001b[0mapp_port\u001b[0m \u001b[1;33m=\u001b[0m \u001b[1;36m12345\u001b[0m   \u001b[1;31m# Replace with the port number the app is listening on\u001b[0m\u001b[1;33m\u001b[0m\u001b[1;33m\u001b[0m\u001b[0m\n\u001b[0;32m      4\u001b[0m \u001b[0ms\u001b[0m \u001b[1;33m=\u001b[0m \u001b[0msocket\u001b[0m\u001b[1;33m.\u001b[0m\u001b[0msocket\u001b[0m\u001b[1;33m(\u001b[0m\u001b[0msocket\u001b[0m\u001b[1;33m.\u001b[0m\u001b[0mAF_INET\u001b[0m\u001b[1;33m,\u001b[0m \u001b[0msocket\u001b[0m\u001b[1;33m.\u001b[0m\u001b[0mSOCK_STREAM\u001b[0m\u001b[1;33m)\u001b[0m\u001b[1;33m\u001b[0m\u001b[1;33m\u001b[0m\u001b[0m\n\u001b[1;32m----> 5\u001b[1;33m \u001b[0ms\u001b[0m\u001b[1;33m.\u001b[0m\u001b[0mconnect\u001b[0m\u001b[1;33m(\u001b[0m\u001b[1;33m(\u001b[0m\u001b[0mapp_ip\u001b[0m\u001b[1;33m,\u001b[0m \u001b[0mapp_port\u001b[0m\u001b[1;33m)\u001b[0m\u001b[1;33m)\u001b[0m\u001b[1;33m\u001b[0m\u001b[1;33m\u001b[0m\u001b[0m\n\u001b[0m",
      "\u001b[1;31mTimeoutError\u001b[0m: [WinError 10060] A connection attempt failed because the connected party did not properly respond after a period of time, or established connection failed because connected host has failed to respond"
     ]
    }
   ],
   "source": [
    "import socket\n",
    "app_ip = '192.168.1.100'  # Replace with the actual IP address of the mobile device\n",
    "app_port = 12345   # Replace with the port number the app is listening on\n",
    "s = socket.socket(socket.AF_INET, socket.SOCK_STREAM)\n",
    "s.connect((app_ip, app_port))"
   ]
  },
  {
   "cell_type": "code",
   "execution_count": 4,
   "id": "1be00926",
   "metadata": {},
   "outputs": [
    {
     "name": "stdout",
     "output_type": "stream",
     "text": [
      "Quited.\n"
     ]
    }
   ],
   "source": [
    "def detect(frame, faces):  \n",
    "    person = 1\n",
    "    for x,y,w,h in faces:\n",
    "        cv2.rectangle(frame, (x,y), (x+w,y+h), (0,255,0), 2)\n",
    "        cv2.putText(frame, f'person {person}', (x,y), cv2.FONT_HERSHEY_SIMPLEX, 0.5, (0,0,255), 1)\n",
    "        person += 1\n",
    "        alert_sound.play()\n",
    "        #message = \"Human detected!\"\n",
    "        #s.send(message.encode())\n",
    "\n",
    "    cv2.putText(frame, 'Status : Detecting ', (40,40), cv2.FONT_HERSHEY_DUPLEX, 0.8, (255,0,0), 2)\n",
    "    cv2.putText(frame, f'Total Persons : {person-1}', (40,70), cv2.FONT_HERSHEY_DUPLEX, 0.8, (255,0,0), 2)\n",
    "    cv2.imshow('output', frame)\n",
    "\n",
    "    return frame\n",
    "\n",
    "def detectByCamera():   \n",
    "    face = cv2.CascadeClassifier(r\"C:\\Users\\sharm\\Documents\\Projects\\CodeX Sigma\\Face_Detection.xml\")\n",
    "    video = cv2.VideoCapture(0)\n",
    "    print('Detecting People...')\n",
    "\n",
    "    while True:\n",
    "        check, frame = video.read()\n",
    " \n",
    "        color = cv2.cvtColor(frame,cv2.COLOR_BGR2GRAY)\n",
    "        faces = face.detectMultiScale(\n",
    "            color,\n",
    "            scaleFactor=1.1,\n",
    "            minNeighbors=5,\n",
    "            minSize=(3,3),\n",
    "            flags=cv2.CASCADE_SCALE_IMAGE\n",
    "        )\n",
    "        print\n",
    "        frame = detect(frame,faces)\n",
    "        \n",
    "        key = cv2.waitKey(1)\n",
    "        if key == ord('q'):\n",
    "                break\n",
    "\n",
    "    video.release()\n",
    "    cv2.destroyAllWindows()\n",
    "    \n",
    "def humanDetector():\n",
    "    print('[INFO] Opening Web Cam.')\n",
    "    detectByCamera()\n",
    "    \n",
    "humanDetector()\n",
    "clear_output()\n",
    "s.close()\n",
    "print(\"Quited.\")"
   ]
  },
  {
   "cell_type": "code",
   "execution_count": 5,
   "id": "c9496bfd",
   "metadata": {},
   "outputs": [
    {
     "name": "stdout",
     "output_type": "stream",
     "text": [
      "Quited.\n"
     ]
    }
   ],
   "source": [
    "def detect(frame, fires):  \n",
    "    fire = 1\n",
    "    for x,y,w,h in fires:\n",
    "        cv2.rectangle(frame, (x,y), (x+w,y+h), (0,255,0), 2)\n",
    "        cv2.putText(frame, f'fire {fire}', (x,y), cv2.FONT_HERSHEY_SIMPLEX, 0.5, (0,0,255), 1)\n",
    "        fire += 1\n",
    "        alert_sound.play()\n",
    "    cv2.putText(frame, 'Status : Detecting ', (40,40), cv2.FONT_HERSHEY_DUPLEX, 0.8, (255,0,0), 2)\n",
    "    cv2.putText(frame, f'Fire Detected : {(fire-1)>0}', (40,70), cv2.FONT_HERSHEY_DUPLEX, 0.8, (255,0,0), 2)\n",
    "    cv2.imshow('output', frame)\n",
    "\n",
    "    return frame\n",
    "\n",
    "def detectByCamera():   \n",
    "    fire = cv2.CascadeClassifier(r\"C:\\Users\\sharm\\Documents\\Projects\\CodeX Sigma\\Fire_Detection.xml\")\n",
    "    video = cv2.VideoCapture(r\"C:\\Users\\sharm\\Documents\\Projects\\CodeX Sigma\\Fire_Video.mp4\")\n",
    "    print('Detecting People...')\n",
    "\n",
    "    while True:\n",
    "        check, frame = video.read()\n",
    " \n",
    "        color = cv2.cvtColor(frame,cv2.COLOR_BGR2GRAY)\n",
    "        fires = fire.detectMultiScale(\n",
    "            color,\n",
    "            scaleFactor=1.1,\n",
    "            minNeighbors=5,\n",
    "            minSize=(3,3),\n",
    "            flags=cv2.CASCADE_SCALE_IMAGE\n",
    "        )\n",
    "\n",
    "        frame = detect(frame, fires)\n",
    "\n",
    "        key = cv2.waitKey(1)\n",
    "        if key == ord('q'):\n",
    "                break\n",
    "\n",
    "    video.release()\n",
    "    cv2.destroyAllWindows()\n",
    "    \n",
    "def fireDetector():\n",
    "    print('[INFO] Opening Web Cam.')\n",
    "    detectByCamera()\n",
    "    \n",
    "fireDetector()\n",
    "clear_output()\n",
    "print(\"Quited.\")"
   ]
  },
  {
   "cell_type": "code",
   "execution_count": 4,
   "id": "1499b261",
   "metadata": {},
   "outputs": [
    {
     "name": "stdout",
     "output_type": "stream",
     "text": [
      "[INFO] Opening Web Cam.\n",
      "Detecting People...\n"
     ]
    }
   ],
   "source": [
    "def detect(frame, weapons):  \n",
    "    weapon = 1\n",
    "    for x,y,w,h in weapons:\n",
    "        cv2.rectangle(frame, (x,y), (x+w,y+h), (0,255,0), 2)\n",
    "        cv2.putText(frame, f'weapon {weapon}', (x,y), cv2.FONT_HERSHEY_SIMPLEX, 0.5, (0,0,255), 1)\n",
    "        weapon += 1\n",
    "        alert_sound.play()\n",
    "    cv2.putText(frame, 'Status : Detecting ', (40,40), cv2.FONT_HERSHEY_DUPLEX, 0.8, (255,0,0), 2)\n",
    "    cv2.putText(frame, f'Total Weapons : {weapon-1}', (40,70), cv2.FONT_HERSHEY_DUPLEX, 0.8, (255,0,0), 2)\n",
    "    cv2.imshow('output', frame)\n",
    "\n",
    "    return frame\n",
    "\n",
    "def detectByCamera():   \n",
    "    weapon = cv2.CascadeClassifier(r\"C:\\Users\\sharm\\Documents\\Projects\\CodeX Sigma\\Weapon_Detection.xml\")\n",
    "    video = cv2.VideoCapture(r\"C:\\Users\\sharm\\Documents\\Projects\\CodeX Sigma\\Weapon_Video.mp4\")\n",
    "    print('Detecting People...')\n",
    "\n",
    "    while True:\n",
    "        check, frame = video.read()\n",
    " \n",
    "        color = cv2.cvtColor(frame,cv2.COLOR_BGR2GRAY)\n",
    "        weapons = weapon.detectMultiScale(\n",
    "            color,\n",
    "            scaleFactor=1.1,\n",
    "            minNeighbors=5,\n",
    "            minSize=(3,3),\n",
    "            flags=cv2.CASCADE_SCALE_IMAGE\n",
    "        )\n",
    "\n",
    "        frame = detect(frame, weapons)\n",
    "\n",
    "        key = cv2.waitKey(1)\n",
    "        if key == ord('q'):\n",
    "                break\n",
    "\n",
    "    video.release()\n",
    "    cv2.destroyAllWindows()\n",
    "    \n",
    "def weaponDetector():\n",
    "    print('[INFO] Opening Web Cam.')\n",
    "    detectByCamera()\n",
    "    \n",
    "weaponDetector()\n",
    "clear_output()\n",
    "print(\"Quited.\")"
   ]
  },
  {
   "cell_type": "code",
   "execution_count": null,
   "id": "d7371d3c",
   "metadata": {},
   "outputs": [],
   "source": []
  }
 ],
 "metadata": {
  "kernelspec": {
   "display_name": "Python 3 (ipykernel)",
   "language": "python",
   "name": "python3"
  },
  "language_info": {
   "codemirror_mode": {
    "name": "ipython",
    "version": 3
   },
   "file_extension": ".py",
   "mimetype": "text/x-python",
   "name": "python",
   "nbconvert_exporter": "python",
   "pygments_lexer": "ipython3",
   "version": "3.9.13"
  }
 },
 "nbformat": 4,
 "nbformat_minor": 5
}
